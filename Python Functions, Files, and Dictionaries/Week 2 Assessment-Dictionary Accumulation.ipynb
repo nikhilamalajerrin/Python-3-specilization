{
 "cells": [
  {
   "cell_type": "markdown",
   "metadata": {},
   "source": [
    "### Question from *Introduction: Accumulating Multiple Results in a Dictionary*"
   ]
  },
  {
   "cell_type": "markdown",
   "metadata": {},
   "source": [
    "2. Provided is a string saved to the variable name sentence. Split the string into a list of words, then create a dictionary that contains each word and the number of times it occurs. Save this dictionary to the variable name word_counts."
   ]
  },
  {
   "cell_type": "code",
   "execution_count": 1,
   "metadata": {},
   "outputs": [],
   "source": [
    "sentence = \"The dog chased the rabbit into the forest but the rabbit was too quick.\""
   ]
  },
  {
   "cell_type": "code",
   "execution_count": 5,
   "metadata": {},
   "outputs": [
    {
     "name": "stdout",
     "output_type": "stream",
     "text": [
      "{'The': 1, 'dog': 1, 'chased': 1, 'the': 3, 'rabbit': 2, 'into': 1, 'forest': 1, 'but': 1, 'was': 1, 'too': 1, 'quick.': 1}\n"
     ]
    }
   ],
   "source": [
    "# Answer:\n",
    "sentence2=sentence.split()\n",
    "\n",
    "word_counts={}\n",
    "\n",
    "for word in sentence2:\n",
    "    if word not in word_counts.keys():\n",
    "        word_counts[word]=0\n",
    "        \n",
    "    word_counts[word]+=1\n",
    "    \n",
    "print(word_counts)"
   ]
  },
  {
   "cell_type": "markdown",
   "metadata": {},
   "source": [
    "3. Create a dictionary called char_d from the string stri, so that the key is a character and the value is how many times it occurs."
   ]
  },
  {
   "cell_type": "code",
   "execution_count": 6,
   "metadata": {},
   "outputs": [],
   "source": [
    "stri = \"what can I do\""
   ]
  },
  {
   "cell_type": "code",
   "execution_count": 7,
   "metadata": {},
   "outputs": [
    {
     "name": "stdout",
     "output_type": "stream",
     "text": [
      "{'w': 1, 'h': 1, 'a': 2, 't': 1, ' ': 3, 'c': 1, 'n': 1, 'I': 1, 'd': 1, 'o': 1}\n"
     ]
    }
   ],
   "source": [
    "# Answer:\n",
    "char_d={}\n",
    "\n",
    "for char in stri:\n",
    "    if char not in char_d.keys():\n",
    "        char_d[char]=0\n",
    "        \n",
    "    char_d[char]+=1\n",
    "    \n",
    "print(char_d)"
   ]
  },
  {
   "cell_type": "markdown",
   "metadata": {},
   "source": [
    "### Question 1\n",
    "The dictionary Junior shows a schedule for a junior year semester. The key is the course name and the value is the number of credits. Find the total number of credits taken this semester and assign it to the variable credits. Do not hardcode this – use dictionary accumulation!"
   ]
  },
  {
   "cell_type": "code",
   "execution_count": 8,
   "metadata": {},
   "outputs": [],
   "source": [
    "Junior = {'SI 206':4, 'SI 310':4, 'BL 300':3, 'TO 313':3, 'BCOM 350':1, 'MO 300':3}"
   ]
  },
  {
   "cell_type": "code",
   "execution_count": 9,
   "metadata": {},
   "outputs": [
    {
     "name": "stdout",
     "output_type": "stream",
     "text": [
      "18\n"
     ]
    }
   ],
   "source": [
    "# Answer:\n",
    "credits=0\n",
    "\n",
    "for key in Junior.keys():\n",
    "    credits+=Junior[key]\n",
    "    \n",
    "print(credits)"
   ]
  },
  {
   "cell_type": "markdown",
   "metadata": {},
   "source": [
    "### Question 2\n",
    "Create a dictionary, freq, that displays each character in string str1 as the key and its frequency as the value."
   ]
  },
  {
   "cell_type": "code",
   "execution_count": 10,
   "metadata": {},
   "outputs": [],
   "source": [
    "str1 = \"peter piper picked a peck of pickled peppers\""
   ]
  },
  {
   "cell_type": "code",
   "execution_count": 13,
   "metadata": {},
   "outputs": [
    {
     "name": "stdout",
     "output_type": "stream",
     "text": [
      "{'p': 9, 'e': 8, 't': 1, 'r': 3, ' ': 7, 'i': 3, 'c': 3, 'k': 3, 'd': 2, 'a': 1, 'o': 1, 'f': 1, 'l': 1, 's': 1}\n"
     ]
    }
   ],
   "source": [
    "# Answer:\n",
    "freq={}\n",
    "\n",
    "for char in str1:\n",
    "    if char not in freq.keys():\n",
    "        freq[char]=0\n",
    "        \n",
    "    freq[char]+=1\n",
    "        \n",
    "print(freq)        "
   ]
  },
  {
   "cell_type": "markdown",
   "metadata": {},
   "source": [
    "### Question 3\n",
    "Provided is a string saved to the variable name s1. Create a dictionary named counts that contains each letter in s1 and the number of times it occurs."
   ]
  },
  {
   "cell_type": "code",
   "execution_count": 14,
   "metadata": {},
   "outputs": [],
   "source": [
    "s1 = \"hello\""
   ]
  },
  {
   "cell_type": "code",
   "execution_count": 15,
   "metadata": {},
   "outputs": [
    {
     "name": "stdout",
     "output_type": "stream",
     "text": [
      "{'h': 1, 'e': 1, 'l': 2, 'o': 1}\n"
     ]
    }
   ],
   "source": [
    "# Answer:\n",
    "counts={}\n",
    "\n",
    "for char in s1:\n",
    "    if char not in counts.keys():\n",
    "        counts[char]=0\n",
    "        \n",
    "    counts[char]+=1\n",
    "        \n",
    "print(counts)      "
   ]
  },
  {
   "cell_type": "markdown",
   "metadata": {},
   "source": [
    "### Question 4\n",
    "Create a dictionary, freq_words, that displays each word in string str1 as the key and its frequency as the value."
   ]
  },
  {
   "cell_type": "code",
   "execution_count": 16,
   "metadata": {},
   "outputs": [],
   "source": [
    "str1 = \"I wish I wish with all my heart to fly with dragons in a land apart\""
   ]
  },
  {
   "cell_type": "code",
   "execution_count": 18,
   "metadata": {},
   "outputs": [
    {
     "name": "stdout",
     "output_type": "stream",
     "text": [
      "{'I': 2, 'wish': 2, 'with': 2, 'all': 1, 'my': 1, 'heart': 1, 'to': 1, 'fly': 1, 'dragons': 1, 'in': 1, 'a': 1, 'land': 1, 'apart': 1}\n"
     ]
    }
   ],
   "source": [
    "# Answer:\n",
    "freq_words={}\n",
    "\n",
    "for word in str1.split():\n",
    "    if word not in freq_words.keys(): # a sginle string to a list of words\n",
    "        freq_words[word]=0\n",
    "        \n",
    "    freq_words[word]+=1\n",
    "    \n",
    "print(freq_words)"
   ]
  },
  {
   "cell_type": "markdown",
   "metadata": {},
   "source": [
    "### Question 5\n",
    "Create a dictionary called wrd_d from the string sent, so that the key is a word and the value is how many times you have seen that word."
   ]
  },
  {
   "cell_type": "code",
   "execution_count": 19,
   "metadata": {},
   "outputs": [],
   "source": [
    "sent = \"Singing in the rain and playing in the rain are two entirely different situations but both can be good\""
   ]
  },
  {
   "cell_type": "code",
   "execution_count": 20,
   "metadata": {},
   "outputs": [
    {
     "name": "stdout",
     "output_type": "stream",
     "text": [
      "{'Singing': 1, 'in': 2, 'the': 2, 'rain': 2, 'and': 1, 'playing': 1, 'are': 1, 'two': 1, 'entirely': 1, 'different': 1, 'situations': 1, 'but': 1, 'both': 1, 'can': 1, 'be': 1, 'good': 1}\n"
     ]
    }
   ],
   "source": [
    "# Answer:\n",
    "wrd_d={}\n",
    "\n",
    "for word in sent.split():\n",
    "    if word not in wrd_d.keys(): # a sginle string to a list of words\n",
    "        wrd_d[word]=0\n",
    "        \n",
    "    wrd_d[word]+=1\n",
    "    \n",
    "print(wrd_d)"
   ]
  },
  {
   "cell_type": "markdown",
   "metadata": {},
   "source": [
    "### Question 6\n",
    "Create the dictionary characters that shows each character from the string sally and its frequency. Then, find the most frequent letter based on the dictionary. Assign this letter to the variable best_char."
   ]
  },
  {
   "cell_type": "code",
   "execution_count": 21,
   "metadata": {},
   "outputs": [],
   "source": [
    "sally = \"sally sells sea shells by the sea shore\""
   ]
  },
  {
   "cell_type": "code",
   "execution_count": 23,
   "metadata": {},
   "outputs": [
    {
     "name": "stdout",
     "output_type": "stream",
     "text": [
      "{'s': 8, 'a': 3, 'l': 6, 'y': 2, ' ': 7, 'e': 6, 'h': 3, 'b': 1, 't': 1, 'o': 1, 'r': 1}\n",
      "s\n"
     ]
    }
   ],
   "source": [
    "characters={}\n",
    "\n",
    "for char in sally:\n",
    "    if char not in characters.keys():\n",
    "        characters[char]=0\n",
    "        \n",
    "    characters[char]+=1\n",
    "    \n",
    "print(characters)\n",
    "\n",
    "# get all keys from characters and put them in a list\n",
    "letters=list(characters.keys())\n",
    "\n",
    "# assume the biggest value appears after the first key\n",
    "best_char=letters[0] # best_char is also a letter\n",
    "\n",
    "# loop\n",
    "for letter in letters: # remember: letters list contains letters (keys of characters) only\n",
    "    if characters[letter]>characters[best_char]:\n",
    "        best_char=letter # if our assumption (the first letter has the largest value) doesn't hold, replace best_char with the new letter \n",
    "\n",
    "print(best_char)"
   ]
  },
  {
   "cell_type": "markdown",
   "metadata": {},
   "source": [
    "### Question 7\n",
    "Do the same as above but now find the least frequent letter. Create the dictionary characters that shows each character from string sally and its frequency. Then, find the least frequent letter in the string and assign the letter to the variable worst_char."
   ]
  },
  {
   "cell_type": "code",
   "execution_count": 24,
   "metadata": {},
   "outputs": [],
   "source": [
    "sally = \"sally sells sea shells by the sea shore and by the road\""
   ]
  },
  {
   "cell_type": "code",
   "execution_count": 25,
   "metadata": {},
   "outputs": [
    {
     "name": "stdout",
     "output_type": "stream",
     "text": [
      "{'s': 8, 'a': 5, 'l': 6, 'y': 3, ' ': 11, 'e': 7, 'h': 4, 'b': 2, 't': 2, 'o': 2, 'r': 2, 'n': 1, 'd': 2}\n",
      "n\n"
     ]
    }
   ],
   "source": [
    "characters={}\n",
    "\n",
    "for char in sally:\n",
    "    if char not in characters.keys():\n",
    "        characters[char]=0\n",
    "        \n",
    "    characters[char]+=1\n",
    "    \n",
    "print(characters)\n",
    "\n",
    "letters=list(characters.keys())\n",
    "\n",
    "worst_char=letters[0]\n",
    "\n",
    "for letter in letters: \n",
    "    if characters[letter]<characters[worst_char]:\n",
    "        worst_char=letter\n",
    "\n",
    "print(worst_char)"
   ]
  },
  {
   "cell_type": "markdown",
   "metadata": {},
   "source": [
    "### Question 8\n",
    "Create a dictionary named letter_counts that contains each letter and the number of times it occurs in string1. Challenge: Letters should not be counted separately as upper-case and lower-case. Intead, all of them should be counted as lower-case."
   ]
  },
  {
   "cell_type": "code",
   "execution_count": 26,
   "metadata": {},
   "outputs": [],
   "source": [
    "string1 = \"There is a tide in the affairs of men, Which taken at the flood, leads on to fortune. Omitted, all the voyage of their life is bound in shallows and in miseries. On such a full sea are we now afloat. And we must take the current when it serves, or lose our ventures.\""
   ]
  },
  {
   "cell_type": "code",
   "execution_count": 27,
   "metadata": {},
   "outputs": [
    {
     "name": "stdout",
     "output_type": "stream",
     "text": [
      "{'t': 19, 'h': 11, 'e': 29, 'r': 12, ' ': 53, 'i': 14, 's': 15, 'a': 17, 'd': 7, 'n': 15, 'f': 9, 'o': 17, 'm': 4, ',': 4, 'w': 6, 'c': 3, 'k': 2, 'l': 11, 'u': 8, '.': 4, 'v': 3, 'y': 1, 'g': 1, 'b': 1}\n"
     ]
    }
   ],
   "source": [
    "# Answer:\n",
    "letter_counts={}\n",
    "\n",
    "for char in string1.lower():\n",
    "    if char not in letter_counts.keys():\n",
    "        letter_counts[char]=0\n",
    "        \n",
    "    letter_counts[char]+=1\n",
    "    \n",
    "print(letter_counts)"
   ]
  },
  {
   "cell_type": "markdown",
   "metadata": {},
   "source": [
    "### Question 9\n",
    "Create a dictionary called low_d that keeps track of all the characters in the string p and notes how many times each character was seen. Make sure that there are no repeats of characters as keys, such that “T” and “t” are both seen as a “t” for example."
   ]
  },
  {
   "cell_type": "code",
   "execution_count": 28,
   "metadata": {},
   "outputs": [],
   "source": [
    "p = \"Summer is a great time to go outside. You have to be careful of the sun though because of the heat.\""
   ]
  },
  {
   "cell_type": "code",
   "execution_count": 29,
   "metadata": {},
   "outputs": [
    {
     "name": "stdout",
     "output_type": "stream",
     "text": [
      "{'s': 5, 'u': 7, 'm': 3, 'e': 12, 'r': 3, ' ': 20, 'i': 3, 'a': 6, 'g': 3, 't': 9, 'o': 8, 'd': 1, '.': 2, 'y': 1, 'h': 6, 'v': 1, 'b': 2, 'c': 2, 'f': 3, 'l': 1, 'n': 1}\n"
     ]
    }
   ],
   "source": [
    "# Answer:\n",
    "low_d={}\n",
    "\n",
    "for char in p.lower():\n",
    "    if char not in low_d.keys():\n",
    "        low_d[char]=0\n",
    "        \n",
    "    low_d[char]+=1\n",
    "    \n",
    "print(low_d)"
   ]
  }
 ],
 "metadata": {
  "kernelspec": {
   "display_name": "Python 3",
   "language": "python",
   "name": "python3"
  },
  "language_info": {
   "codemirror_mode": {
    "name": "ipython",
    "version": 3
   },
   "file_extension": ".py",
   "mimetype": "text/x-python",
   "name": "python",
   "nbconvert_exporter": "python",
   "pygments_lexer": "ipython3",
   "version": "3.7.3"
  }
 },
 "nbformat": 4,
 "nbformat_minor": 2
}
