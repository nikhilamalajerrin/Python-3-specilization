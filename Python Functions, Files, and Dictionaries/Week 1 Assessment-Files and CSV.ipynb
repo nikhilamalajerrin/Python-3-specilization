{
 "cells": [
  {
   "cell_type": "markdown",
   "metadata": {},
   "source": [
    "### Question 1\n",
    "The textfile, travel_plans.txt, contains the summer travel plans for someone with some commentary. Find the total number of characters in the file and save to the variable num."
   ]
  },
  {
   "cell_type": "code",
   "execution_count": null,
   "metadata": {},
   "outputs": [],
   "source": [
    "# Answer:\n",
    "fileref=open('travel_plans.txt','r')\n",
    "\n",
    "contents=fileref.read()\n",
    "\n",
    "num=len(contents)\n",
    "\n",
    "print(num)\n",
    "\n",
    "fileref.close()"
   ]
  },
  {
   "cell_type": "markdown",
   "metadata": {},
   "source": [
    "### Question 2\n",
    "We have provided a file called emotion_words.txt that contains lines of words that describe emotions. Find the total number of words in the file and assign this value to the variable num_words."
   ]
  },
  {
   "cell_type": "code",
   "execution_count": null,
   "metadata": {},
   "outputs": [],
   "source": [
    "fileref=open('emotion_words.txt','r')\n",
    "\n",
    "num_words=0\n",
    "\n",
    "for line in fileref.readlines():\n",
    "    values=line.split() # notice that the question asks for words. have to split a sentence into a sequence of strings first\n",
    "                        # values is a list of strings\n",
    "    num_words+=len(values) # for each row, count the number of strings in the list and add that number to num_words\n",
    "    \n",
    "print(num_words)"
   ]
  },
  {
   "cell_type": "markdown",
   "metadata": {},
   "source": [
    "### Question 3\n",
    "Assign to the variable num_lines the number of lines in the file school_prompt.txt."
   ]
  },
  {
   "cell_type": "code",
   "execution_count": null,
   "metadata": {},
   "outputs": [],
   "source": [
    "# Answer:\n",
    "fileref=open('school_prompt.txt','r')\n",
    "\n",
    "num_lines=0\n",
    "\n",
    "for line in fileref.readlines():\n",
    "    num_lines+=1\n",
    "    \n",
    "print(num_lines)"
   ]
  },
  {
   "cell_type": "markdown",
   "metadata": {},
   "source": [
    "### Question 4\n",
    "Assign the first 30 characters of school_prompt.txt as a string to the variable beginning_chars."
   ]
  },
  {
   "cell_type": "code",
   "execution_count": null,
   "metadata": {},
   "outputs": [],
   "source": [
    "# Answer:\n",
    "fileref=open('school_prompt.txt','r')\n",
    "\n",
    "beginning_chars=fileref.read(30)\n",
    "\n",
    "print(beginning_chars)"
   ]
  },
  {
   "cell_type": "markdown",
   "metadata": {},
   "source": [
    "### Question 5\n",
    "Challenge: Using the file school_prompt.txt, assign the third word of every line to a list called three."
   ]
  },
  {
   "cell_type": "code",
   "execution_count": null,
   "metadata": {},
   "outputs": [],
   "source": [
    "# Answer:\n",
    "fileref=open('school_prompt.txt','r')\n",
    "\n",
    "three=[]\n",
    "\n",
    "for line in fileref.readlines():\n",
    "    line2=line.split() # notice that the question asks for words. have to split a sentence into a sequence of strings first\n",
    "    three.append(line2[2])\n",
    "    \n",
    "print(three)"
   ]
  },
  {
   "cell_type": "markdown",
   "metadata": {},
   "source": [
    "### Question 6\n",
    "Challenge: Create a list called emotions that contains the first word of every line in emotion_words.txt."
   ]
  },
  {
   "cell_type": "code",
   "execution_count": null,
   "metadata": {},
   "outputs": [],
   "source": [
    "# Answer:\n",
    "fileref=open('emotion_words.txt','r')\n",
    "\n",
    "emotions=[]\n",
    "\n",
    "for line in fileref.readlines():\n",
    "    line2=line.split()\n",
    "    emotions.append(line2[0])\n",
    "    \n",
    "print(emotions)"
   ]
  },
  {
   "cell_type": "markdown",
   "metadata": {},
   "source": [
    "### Question 7\n",
    "Assign the first 33 characters from the textfile, travel_plans.txt to the variable first_chars."
   ]
  },
  {
   "cell_type": "code",
   "execution_count": null,
   "metadata": {},
   "outputs": [],
   "source": [
    "fileref=open('travel_plans.txt','r')\n",
    "\n",
    "first_chars=fileref.read(33)\n",
    "\n",
    "print(first_chars)"
   ]
  },
  {
   "cell_type": "markdown",
   "metadata": {},
   "source": [
    "### Question 8\n",
    "Challenge: Using the file school_prompt.txt, if the character ‘p’ is in a word, then add the word to a list called p_words."
   ]
  },
  {
   "cell_type": "code",
   "execution_count": null,
   "metadata": {},
   "outputs": [],
   "source": [
    "fileref=open('school_prompt.txt','r')\n",
    "\n",
    "p_words=[]\n",
    "\n",
    "for line in fileref.readlines():\n",
    "    values=line.split() # for each line, split it into a list of strings first\n",
    "    for word in values: # loop through all words in the list (for all rows)\n",
    "        if 'p' in word: # if statement\n",
    "            p_words.append(word)\n",
    "        \n",
    "    \n",
    "print(p_words)"
   ]
  }
 ],
 "metadata": {
  "kernelspec": {
   "display_name": "Python 3",
   "language": "python",
   "name": "python3"
  },
  "language_info": {
   "codemirror_mode": {
    "name": "ipython",
    "version": 3
   },
   "file_extension": ".py",
   "mimetype": "text/x-python",
   "name": "python",
   "nbconvert_exporter": "python",
   "pygments_lexer": "ipython3",
   "version": "3.7.3"
  }
 },
 "nbformat": 4,
 "nbformat_minor": 2
}
