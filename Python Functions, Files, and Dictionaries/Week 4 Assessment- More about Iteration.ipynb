{
 "cells": [
  {
   "cell_type": "markdown",
   "metadata": {},
   "source": [
    "### Questions from the reading _The While Statement_"
   ]
  },
  {
   "cell_type": "markdown",
   "metadata": {},
   "source": [
    "Write a while loop that is initialized at 0 and stops at 15. If the counter is an even number, append the counter to a list called eve_nums."
   ]
  },
  {
   "cell_type": "code",
   "execution_count": 6,
   "metadata": {},
   "outputs": [
    {
     "data": {
      "text/plain": [
       "[1, 3, 5, 7, 9, 11, 13, 15]"
      ]
     },
     "execution_count": 6,
     "metadata": {},
     "output_type": "execute_result"
    }
   ],
   "source": [
    "eve_nums=[]\n",
    "num=0\n",
    "\n",
    "while num<=15:\n",
    "    num+=1\n",
    "    if num%2==1:\n",
    "        eve_nums.append(num)\n",
    "\n",
    "eve_nums"
   ]
  },
  {
   "cell_type": "markdown",
   "metadata": {},
   "source": [
    "Below, we’ve provided a for loop that sums all the elements of list1. Write code that accomplishes the same task, but instead uses a while loop. Assign the accumulator variable to the name accum."
   ]
  },
  {
   "cell_type": "code",
   "execution_count": 7,
   "metadata": {},
   "outputs": [],
   "source": [
    "list1 = [8, 3, 4, 5, 6, 7, 9]\n",
    "\n",
    "tot = 0\n",
    "for elem in list1:\n",
    "    tot = tot + elem"
   ]
  },
  {
   "cell_type": "code",
   "execution_count": 3,
   "metadata": {},
   "outputs": [
    {
     "data": {
      "text/plain": [
       "42"
      ]
     },
     "execution_count": 3,
     "metadata": {},
     "output_type": "execute_result"
    }
   ],
   "source": [
    "# Answer:\n",
    "list1 = [8, 3, 4, 5, 6, 7, 9]\n",
    "\n",
    "idx=0\n",
    "accum=0\n",
    "\n",
    "while idx<len(list1):\n",
    "    accum+=list1[idx]\n",
    "    idx+=1\n",
    "\n",
    "accum"
   ]
  },
  {
   "cell_type": "markdown",
   "metadata": {},
   "source": [
    "Write a function called stop_at_four that iterates through a list of numbers. Using a while loop, append each number to a new list until the number 4 appears. The function should return the new list."
   ]
  },
  {
   "cell_type": "code",
   "execution_count": 4,
   "metadata": {},
   "outputs": [],
   "source": [
    "def stop_at_four(list_of_numbers):\n",
    "    idx=0\n",
    "    lst=[]\n",
    "    \n",
    "    while idx<len(list_of_numbers):\n",
    "        \n",
    "        if list_of_numbers[idx]!=4:\n",
    "            lst.append(list_of_numbers[idx])\n",
    "        \n",
    "        \n",
    "        elif list_of_numbers[idx]==4:\n",
    "            return lst\n",
    "\n",
    "        idx+=1\n",
    "    return lst   "
   ]
  },
  {
   "cell_type": "markdown",
   "metadata": {},
   "source": [
    "### Questions from _Assessment: More about Iteration_"
   ]
  },
  {
   "cell_type": "markdown",
   "metadata": {},
   "source": [
    "### Question 1\n",
    "Write a function, sublist, that takes in a list of numbers as the parameter. In the function, use a while loop to return a sublist of the input list. The sublist should contain the same values of the original list up until it reaches the number 5 (it should not contain the number 5)."
   ]
  },
  {
   "cell_type": "code",
   "execution_count": 14,
   "metadata": {},
   "outputs": [],
   "source": [
    "def sublist(lst):\n",
    "    \n",
    "    idx=0\n",
    "    sublst=[]\n",
    "    \n",
    "    while idx<len(lst):\n",
    "        if lst[idx]!=5:\n",
    "            sublst.append(lst[idx])\n",
    "        elif lst[idx]==5:\n",
    "            return sublst \n",
    "        #如果遇到5，那么return sublst。这个sublst可以是上面已经append过的，也可以是空list（比如lst=[0]，那么第一个if就通不过，直接return空list）\n",
    "        idx+=1\n",
    "    return sublst"
   ]
  },
  {
   "cell_type": "markdown",
   "metadata": {},
   "source": [
    "### Question 2\n",
    "Write a function called check_nums that takes a list as its parameter, and contains a while loop that only stops once the element of the list is the number 7. What is returned is a list of all of the numbers up until it reaches 7."
   ]
  },
  {
   "cell_type": "code",
   "execution_count": 1,
   "metadata": {},
   "outputs": [],
   "source": [
    "def check_nums(lst):\n",
    "    \n",
    "    idx=0\n",
    "    alist=[]\n",
    "    \n",
    "    while idx<len(lst):\n",
    "        if lst[idx]!=7:\n",
    "            alist.append(lst[idx])\n",
    "        if lst[idx]==7:\n",
    "            return alist\n",
    "        \n",
    "        idx+=1\n",
    "    return alist"
   ]
  },
  {
   "cell_type": "markdown",
   "metadata": {},
   "source": [
    "### Question 3\n",
    "Write a function, sublist, that takes in a list of strings as the parameter. In the function, use a while loop to return a sublist of the input list. The sublist should contain the same values of the original list up until it reaches the string “STOP” (it should not contain the string “STOP”)."
   ]
  },
  {
   "cell_type": "code",
   "execution_count": 5,
   "metadata": {},
   "outputs": [],
   "source": [
    "def sublist(lst):\n",
    "    \n",
    "    idx=0\n",
    "    alist=[]\n",
    "    \n",
    "    while idx<len(lst):\n",
    "        if lst[idx]!='STOP':\n",
    "            alist.append(lst[idx])\n",
    "        if lst[idx]=='STOP':\n",
    "            return alist\n",
    "        \n",
    "        idx+=1\n",
    "    \n",
    "    return alist"
   ]
  },
  {
   "cell_type": "markdown",
   "metadata": {},
   "source": [
    "### Question 4\n",
    "Write a function called stop_at_z that iterates through a list of strings. Using a while loop, append each string to a new list until the string that appears is “z”. The function should return the new list."
   ]
  },
  {
   "cell_type": "code",
   "execution_count": null,
   "metadata": {},
   "outputs": [],
   "source": [
    "def stop_at_z(lst):\n",
    "    \n",
    "    idx=0\n",
    "    alist=[]\n",
    "    \n",
    "    while idx<len(lst):\n",
    "        if lst[idx]!='z':\n",
    "            alist.append(lst[idx])\n",
    "        if lst[idx]=='z':\n",
    "            return alist\n",
    "        \n",
    "        idx+=1\n",
    "    \n",
    "    return alist"
   ]
  },
  {
   "cell_type": "markdown",
   "metadata": {},
   "source": [
    "### Question 5\n",
    "Below is a for loop that works. Underneath the for loop, rewrite the problem so that it does the same thing, but using a while loop instead of a for loop. Assign the accumulated total in the while loop code to the variable sum2. Once complete, sum2 should equal sum1."
   ]
  },
  {
   "cell_type": "code",
   "execution_count": 1,
   "metadata": {},
   "outputs": [],
   "source": [
    "sum1 = 0\n",
    "\n",
    "lst = [65, 78, 21, 33]\n",
    "\n",
    "for x in lst:\n",
    "    sum1 = sum1 + x"
   ]
  },
  {
   "cell_type": "code",
   "execution_count": 3,
   "metadata": {},
   "outputs": [
    {
     "name": "stdout",
     "output_type": "stream",
     "text": [
      "197\n"
     ]
    }
   ],
   "source": [
    "lst = [65, 78, 21, 33]\n",
    "\n",
    "sum2=0\n",
    "idx=0\n",
    "\n",
    "while idx<len(lst):\n",
    "    sum2+=lst[idx]\n",
    "    idx+=1\n",
    "    \n",
    "print(sum2)"
   ]
  },
  {
   "cell_type": "markdown",
   "metadata": {},
   "source": [
    "### Challenge\n",
    "Write a function called beginning that takes a list as input and contains a while loop that only stops once the element of the list is the string ‘bye’. What is returned is a list that contains up to the first 10 strings, regardless of where the loop stops. (i.e., if it stops on the 32nd element, the first 10 are returned. If “bye” is the 5th element, the first 4 are returned.) If you want to make this even more of a challenge, do this without slicing"
   ]
  },
  {
   "cell_type": "code",
   "execution_count": 12,
   "metadata": {},
   "outputs": [],
   "source": [
    "def beginning(lst):\n",
    "    \n",
    "    idx=0\n",
    "    alist=[]\n",
    "    \n",
    "    while idx<len(lst) and idx<10:\n",
    "        if lst[idx]!='bye':\n",
    "           alist.append(lst[idx]) \n",
    "        if lst[idx]=='bye':\n",
    "            return alist\n",
    "        \n",
    "        idx+=1\n",
    "    \n",
    "    return alist"
   ]
  },
  {
   "cell_type": "code",
   "execution_count": 18,
   "metadata": {},
   "outputs": [],
   "source": [
    "# wrong:\n",
    "def beginning(lst):\n",
    "    \n",
    "    idx=0\n",
    "    alist=[]\n",
    "    \n",
    "    while idx<10:\n",
    "        #this works only when len(list)>11. will keep the first 10 elements\n",
    "        #if len(list)<10, say 5, it will try to loop through elements number 6~10, which don't exist at all\n",
    "        \n",
    "        if lst[idx]!='bye':\n",
    "           alist.append(lst[idx]) \n",
    "        if lst[idx]=='bye':\n",
    "            return alist\n",
    "        \n",
    "        idx+=1\n",
    "    \n",
    "    return alist"
   ]
  }
 ],
 "metadata": {
  "kernelspec": {
   "display_name": "Python 3",
   "language": "python",
   "name": "python3"
  },
  "language_info": {
   "codemirror_mode": {
    "name": "ipython",
    "version": 3
   },
   "file_extension": ".py",
   "mimetype": "text/x-python",
   "name": "python",
   "nbconvert_exporter": "python",
   "pygments_lexer": "ipython3",
   "version": "3.7.3"
  }
 },
 "nbformat": 4,
 "nbformat_minor": 2
}
